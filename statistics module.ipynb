{
 "cells": [
  {
   "attachments": {},
   "cell_type": "markdown",
   "metadata": {},
   "source": [
    "# Statistics Python Module"
   ]
  },
  {
   "attachments": {},
   "cell_type": "markdown",
   "metadata": {},
   "source": [
    "### FACTORIAL FUNCTION"
   ]
  },
  {
   "cell_type": "code",
   "execution_count": 1,
   "metadata": {},
   "outputs": [],
   "source": [
    "def factorial(n: int) -> int :\n",
    "    \"\"\"\n",
    "    This function calculates the factorial of n\n",
    "\n",
    "    Parameters:\n",
    "    n (int) = the number for the factorial calculation \n",
    "\n",
    "    Returns:\n",
    "    int: Returns the factorial value\n",
    "    \"\"\"\n",
    "    result = 1\n",
    "    for i in range(1, n+1):\n",
    "        result *= i\n",
    "    return int(result)"
   ]
  },
  {
   "attachments": {},
   "cell_type": "markdown",
   "metadata": {},
   "source": [
    "### COMBINATION FUNCTION"
   ]
  },
  {
   "cell_type": "code",
   "execution_count": 2,
   "metadata": {},
   "outputs": [],
   "source": [
    "def combination(n : int, x : int) -> int :\n",
    "\n",
    "    \"\"\"\n",
    "    This function takes two numbers as input and returns combination value\n",
    "\n",
    "    Parameters:\n",
    "    n (int) = total number of objects \n",
    "    x (int): number of objects chosen at one time\n",
    "\n",
    "    Returns:\n",
    "    int: Returns the combination of x element out of n objects\n",
    "    \"\"\"\n",
    "\n",
    "    result = factorial(n) / (factorial(n-x) * factorial(x) )\n",
    "\n",
    "    return int(result)"
   ]
  },
  {
   "attachments": {},
   "cell_type": "markdown",
   "metadata": {},
   "source": [
    "### PERMUTATION FUNCTION"
   ]
  },
  {
   "cell_type": "code",
   "execution_count": 3,
   "metadata": {},
   "outputs": [],
   "source": [
    "def permutation(n: int, x: int) -> int:\n",
    "    \"\"\"\n",
    "    This function calculates the number of permutations of n objects taken x at a time.\n",
    "\n",
    "    Parameters:\n",
    "    n (int): The total number of objects.\n",
    "    x (int): The number of objects to choose at a time.\n",
    "\n",
    "    Returns:\n",
    "    int: The number of permutations.\n",
    "    \"\"\"\n",
    "    result = 1\n",
    "    for i in range(n, n-x, -1):\n",
    "        result *= i\n",
    "    return result\n"
   ]
  },
  {
   "attachments": {},
   "cell_type": "markdown",
   "metadata": {},
   "source": [
    "### P VALUE FUNCTION"
   ]
  },
  {
   "cell_type": "code",
   "execution_count": 11,
   "metadata": {},
   "outputs": [],
   "source": [
    "from scipy.stats import t, norm\n",
    "\n",
    "# The function uses the t.cdf() function from the scipy.stats module to calculate the cumulative distribution function \n",
    "# for the t-distribution, which is used to calculate the p-value for the test.\n",
    "\n",
    "def calculate_p_value(test_statistic, degrees_freedom, alternative=\"two-sided\"):\n",
    "    \"\"\"\n",
    "    This function calculates the p-value for a statistical test.\n",
    "\n",
    "    Parameters:\n",
    "    test_statistic (float): The observed value of the test statistic.\n",
    "    degrees_freedom (int): The degrees of freedom for the test.\n",
    "    alternative (str): The type of alternative hypothesis. Can be \"two-sided\", \"greater\", or \"less\".\n",
    "\n",
    "    Returns:\n",
    "    float: The p-value for the test.\n",
    "    \"\"\"\n",
    "    if alternative == \"two-sided\":\n",
    "        p_value = 2 * min(t.cdf(test_statistic, degrees_freedom), 1 - t.cdf(test_statistic, degrees_freedom))\n",
    "    elif alternative == \"greater\":\n",
    "        p_value = 1 - t.cdf(test_statistic, degrees_freedom)\n",
    "    elif alternative == \"less\":\n",
    "        p_value = t.cdf(test_statistic, degrees_freedom)\n",
    "    else:\n",
    "        raise ValueError(\"Invalid alternative hypothesis type.\")\n",
    "\n",
    "    return p_value\n"
   ]
  },
  {
   "attachments": {},
   "cell_type": "markdown",
   "metadata": {},
   "source": [
    "### FALSE DISCOVERY RATE (FDR) FUNCTION"
   ]
  },
  {
   "cell_type": "code",
   "execution_count": 27,
   "metadata": {},
   "outputs": [],
   "source": [
    "import numpy as np\n",
    "\n",
    "def calculate_fdr(p_values, alpha):\n",
    "    \"\"\"\n",
    "    Calculates the False Discovery Rate (FDR) given an array of p-values and a significance level alpha.\n",
    "    Returns the FDR and the indices of the rejected hypotheses.\n",
    "    \"\"\"\n",
    "    # Sort the p-values in ascending order\n",
    "    sorted_p_values = np.sort(p_values)\n",
    "    # Calculate the number of hypotheses\n",
    "    m = len(sorted_p_values)\n",
    "    # Initialize the false discovery count\n",
    "    false_discovery_count = 0\n",
    "    # Initialize an array to store the rejected hypotheses\n",
    "    rejected_hypotheses = []\n",
    "    # Iterate over the sorted p-values in reverse order\n",
    "    for i in range(m-1, -1, -1):\n",
    "        # Calculate the adjusted p-value using the Benjamini-Hochberg procedure\n",
    "        adjusted_p_value = sorted_p_values[i] * m / (i+1)\n",
    "        # If the adjusted p-value is less than or equal to the significance level, reject the null hypothesis\n",
    "        if adjusted_p_value <= alpha:\n",
    "            false_discovery_count += 1\n",
    "            rejected_hypotheses.append(i)\n",
    "    # Calculate the False Discovery Rate\n",
    "    fdr = false_discovery_count / len(rejected_hypotheses) if len(rejected_hypotheses) > 0 else 0\n",
    "    print(\"False Discovery Rate: {:.4f}\".format(fdr))\n",
    "    print(\"Number of rejected hypotheses: {}\".format(len(rejected_hypotheses))) \n",
    "    # Return the FDR and the indices of the rejected hypotheses\n",
    "    return fdr, rejected_hypotheses"
   ]
  },
  {
   "attachments": {},
   "cell_type": "markdown",
   "metadata": {},
   "source": [
    "### POWER ANALYSIS"
   ]
  },
  {
   "cell_type": "code",
   "execution_count": 2,
   "metadata": {},
   "outputs": [],
   "source": [
    "import statsmodels.stats.power as smp\n",
    "\n",
    "def power_analysis(effect_size : float, alpha : float, power : float, sample_size=None, alternative='two-sided'):\n",
    "    \"\"\"\n",
    "    Conducts a statistical power analysis to determine the required sample size for a given effect size, alpha, and power.\n",
    "    :param effect_size: float, the standardized effect size to detect\n",
    "    :param alpha: float, the significance level (Type I error rate)\n",
    "    :param power: float, the desired statistical power (1 - Type II error rate)\n",
    "    :param sample_size: int, the sample size. If None, will be calculated based on effect size, alpha, and power.\n",
    "    :param alternative: str, 'two-sided' (default), 'larger', or 'smaller', indicating the alternative hypothesis\n",
    "    :return: tuple, (sample_size, effect_size, alpha, power)\n",
    "    \"\"\"\n",
    "    if sample_size is None:\n",
    "        sample_size = smp.tt_ind_solve_power(effect_size=effect_size, alpha=alpha, power=power, alternative=alternative)\n",
    "\n",
    "    power_result = smp.tt_ind_solve_power(effect_size=effect_size, nobs1=sample_size, alpha=alpha, power=None, alternative=alternative)\n",
    "    print(f\"Required sample size: {sample_size}\")\n",
    "    print(f\"Effect size: {effect_size}\")\n",
    "    print(f\"Alpha: {alpha}\")\n",
    "    print(f\"Power: {power}\")\n",
    "    \n",
    "    return sample_size, effect_size, alpha, power_result\n"
   ]
  },
  {
   "cell_type": "markdown",
   "metadata": {},
   "source": [
    "### COVARIANCE FUNCTION"
   ]
  },
  {
   "cell_type": "code",
   "execution_count": 5,
   "metadata": {},
   "outputs": [],
   "source": [
    "def covariance(x, y):\n",
    "    \"\"\"\n",
    "    Calculates the covariance between two variables x and y.\n",
    "    :param x: list or array, the first variable\n",
    "    :param y: list or array, the second variable\n",
    "    :return: float, the covariance between x and y\n",
    "    \"\"\"\n",
    "    if len(x) != len(y):\n",
    "        raise ValueError(\"x and y must be of the same length\")\n",
    "\n",
    "    x_mean = sum(x) / len(x)\n",
    "    y_mean = sum(y) / len(y)\n",
    "    n = len(x)\n",
    "    \n",
    "    covariance = sum((x[i] - x_mean) * (y[i] - y_mean) for i in range(n)) / (n - 1)\n",
    "    print(f\"Covariance: {covariance}\")\n",
    "    \n",
    "    return covariance\n"
   ]
  },
  {
   "cell_type": "markdown",
   "metadata": {},
   "source": [
    "### CORRELATION COEFFICIENT FUNCTION"
   ]
  },
  {
   "cell_type": "code",
   "execution_count": 12,
   "metadata": {},
   "outputs": [],
   "source": [
    "def correlation_coefficient(x, y):\n",
    "    \"\"\"\n",
    "    Calculates the correlation coefficient between two variables x and y.\n",
    "    :param x: list or array, the first variable\n",
    "    :param y: list or array, the second variable\n",
    "    :return: float, the correlation coefficient between x and y\n",
    "    \"\"\"\n",
    "    if len(x) != len(y):\n",
    "        raise ValueError(\"x and y must be of the same length\")\n",
    "\n",
    "    x_mean = sum(x) / len(x)\n",
    "    y_mean = sum(y) / len(y)\n",
    "    n = len(x)\n",
    "\n",
    "    covariance = sum((x[i] - x_mean) * (y[i] - y_mean) for i in range(n)) / (n - 1)\n",
    "    x_std = (sum((x[i] - x_mean) ** 2 for i in range(n)) / (n - 1)) ** 0.5\n",
    "    y_std = (sum((y[i] - y_mean) ** 2 for i in range(n)) / (n - 1)) ** 0.5\n",
    "\n",
    "    correlation_coefficient = covariance / (x_std * y_std)\n",
    "    print(f\"Correlation coefficient: {correlation_coefficient}\")\n",
    "\n",
    "    return correlation_coefficient\n"
   ]
  },
  {
   "cell_type": "markdown",
   "metadata": {},
   "source": [
    "### BAYES THEOREM"
   ]
  },
  {
   "cell_type": "code",
   "execution_count": 16,
   "metadata": {},
   "outputs": [],
   "source": [
    "def bayes_theorem(prior_prob : float , conditional_prob : float , evidence_prob : float) -> float:\n",
    "    \"\"\"\n",
    "    Calculates the posterior probability using Bayes' theorem.\n",
    "    :param prior_prob: float, the prior probability of the event\n",
    "    :param conditional_prob: float, the conditional probability of the evidence given the event\n",
    "    :param evidence_prob: float, the probability of the evidence occurring\n",
    "    :return: float, the posterior probability of the event given the evidence\n",
    "    \"\"\"\n",
    "    posterior_prob = (conditional_prob * prior_prob) / evidence_prob\n",
    "    print(f\"Posterior probability: {posterior_prob}\")\n",
    "\n",
    "    return posterior_prob\n"
   ]
  },
  {
   "attachments": {},
   "cell_type": "markdown",
   "metadata": {},
   "source": [
    "### MEAN FUNCTION"
   ]
  },
  {
   "cell_type": "code",
   "execution_count": 22,
   "metadata": {},
   "outputs": [],
   "source": [
    "def mean(numbers) -> float:\n",
    "    \"\"\"\n",
    "    Calculates the mean of a list of numbers.\n",
    "    :param numbers: list or array, the list of numbers\n",
    "    :return: float, the mean of the list of numbers\n",
    "    \"\"\"\n",
    "    n = len(numbers)\n",
    "    mean = sum(numbers) / n\n",
    "    print(f\"mean: {mean}\")\n",
    "\n",
    "    return mean"
   ]
  },
  {
   "cell_type": "markdown",
   "metadata": {},
   "source": [
    "### STANDARD DEVIATION FUNCTION"
   ]
  },
  {
   "cell_type": "code",
   "execution_count": 20,
   "metadata": {},
   "outputs": [],
   "source": [
    "def std_dev(numbers):\n",
    "    \"\"\"\n",
    "    Calculates the standard deviation of a list of numbers.\n",
    "    :param numbers: list or array, the list of numbers\n",
    "    :return: float, the standard deviation of the list of numbers\n",
    "    \"\"\"\n",
    "    n = len(numbers)\n",
    "    mean = sum(numbers) / n\n",
    "    deviations = [(x - mean) ** 2 for x in numbers]\n",
    "    variance = sum(deviations) / (n - 1)\n",
    "    std_dev = variance ** 0.5\n",
    "    print(f\"Standard deviation: {std_dev}\")\n",
    "\n",
    "    return std_dev\n"
   ]
  },
  {
   "attachments": {},
   "cell_type": "markdown",
   "metadata": {},
   "source": [
    "### STANDARD ERROR FUNCTION"
   ]
  },
  {
   "cell_type": "code",
   "execution_count": 1,
   "metadata": {},
   "outputs": [],
   "source": [
    "def calculate_std_error(numbers):\n",
    "    \"\"\"\n",
    "    Calculates the standard error of the mean for a list of numbers.\n",
    "    :param numbers: list or array, the list of numbers\n",
    "    :return: float, the standard error of the mean\n",
    "    \"\"\"\n",
    "    n = len(numbers)\n",
    "    std_dev = std_dev(numbers)\n",
    "    std_error = std_dev / (n ** 0.5)\n",
    "    print(f\"Standard error: {std_error}\")\n",
    "    \n",
    "    return std_error\n"
   ]
  },
  {
   "cell_type": "code",
   "execution_count": null,
   "metadata": {},
   "outputs": [],
   "source": []
  },
  {
   "cell_type": "code",
   "execution_count": null,
   "metadata": {},
   "outputs": [],
   "source": []
  },
  {
   "cell_type": "code",
   "execution_count": null,
   "metadata": {},
   "outputs": [],
   "source": []
  },
  {
   "cell_type": "code",
   "execution_count": null,
   "metadata": {},
   "outputs": [],
   "source": []
  },
  {
   "cell_type": "code",
   "execution_count": null,
   "metadata": {},
   "outputs": [],
   "source": []
  },
  {
   "cell_type": "code",
   "execution_count": null,
   "metadata": {},
   "outputs": [],
   "source": []
  },
  {
   "cell_type": "markdown",
   "metadata": {},
   "source": [
    "### SANITY CHECKS"
   ]
  },
  {
   "cell_type": "code",
   "execution_count": 31,
   "metadata": {},
   "outputs": [
    {
     "name": "stdout",
     "output_type": "stream",
     "text": [
      "False Discovery Rate: 1.0000\n",
      "Number of rejected hypotheses: 515\n"
     ]
    }
   ],
   "source": [
    "import numpy as np\n",
    "\n",
    "# Simulate 1000 p-values from a uniform distribution\n",
    "p_values = np.random.normal(size=1000)\n",
    "\n",
    "# Set the significance level to 0.05\n",
    "alpha = 0.05\n",
    "\n",
    "# Calculate the False Discovery Rate and the rejected hypotheses\n",
    "fdr, rejected_hypotheses = calculate_fdr(p_values, alpha)\n",
    "\n",
    "\n",
    "\n"
   ]
  },
  {
   "cell_type": "code",
   "execution_count": null,
   "metadata": {},
   "outputs": [],
   "source": []
  },
  {
   "cell_type": "code",
   "execution_count": null,
   "metadata": {},
   "outputs": [],
   "source": []
  },
  {
   "cell_type": "code",
   "execution_count": null,
   "metadata": {},
   "outputs": [],
   "source": []
  },
  {
   "cell_type": "code",
   "execution_count": null,
   "metadata": {},
   "outputs": [],
   "source": []
  },
  {
   "cell_type": "code",
   "execution_count": null,
   "metadata": {},
   "outputs": [],
   "source": []
  },
  {
   "cell_type": "code",
   "execution_count": null,
   "metadata": {},
   "outputs": [],
   "source": []
  },
  {
   "cell_type": "code",
   "execution_count": null,
   "metadata": {},
   "outputs": [],
   "source": []
  },
  {
   "cell_type": "code",
   "execution_count": null,
   "metadata": {},
   "outputs": [],
   "source": []
  }
 ],
 "metadata": {
  "kernelspec": {
   "display_name": "Python 3",
   "language": "python",
   "name": "python3"
  },
  "language_info": {
   "codemirror_mode": {
    "name": "ipython",
    "version": 3
   },
   "file_extension": ".py",
   "mimetype": "text/x-python",
   "name": "python",
   "nbconvert_exporter": "python",
   "pygments_lexer": "ipython3",
   "version": "3.10.8"
  },
  "orig_nbformat": 4,
  "vscode": {
   "interpreter": {
    "hash": "06fc0a7d8e562541745d7b36613ba10301b07ff693e09dfdd66d0aba5ccb1175"
   }
  }
 },
 "nbformat": 4,
 "nbformat_minor": 2
}
